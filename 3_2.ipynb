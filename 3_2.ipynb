{
  "nbformat": 4,
  "nbformat_minor": 0,
  "metadata": {
    "colab": {
      "provenance": [],
      "authorship_tag": "ABX9TyM08EirwsFPyE8XXNmddUVd",
      "include_colab_link": true
    },
    "kernelspec": {
      "name": "python3",
      "display_name": "Python 3"
    },
    "language_info": {
      "name": "python"
    }
  },
  "cells": [
    {
      "cell_type": "markdown",
      "metadata": {
        "id": "view-in-github",
        "colab_type": "text"
      },
      "source": [
        "<a href=\"https://colab.research.google.com/github/gammapasta/machineLearning/blob/main/3_2.ipynb\" target=\"_parent\"><img src=\"https://colab.research.google.com/assets/colab-badge.svg\" alt=\"Open In Colab\"/></a>"
      ]
    },
    {
      "cell_type": "markdown",
      "source": [
        "\n",
        "https://colab.research.google.com/github/rickiepark/hg-mldl/blob/master/3-1.ipynb#scrollTo=z-oQeMvC2NnY\n",
        "k-최근접 이웃의 한계\n"
      ],
      "metadata": {
        "id": "XHqwu9v0rxHb"
      }
    },
    {
      "cell_type": "code",
      "source": [
        "import numpy as\n",
        "\n",
        "perch_length = np.array(\n",
        "    [8.4, 13.7, 15.0, 16.2, 17.4, 18.0, 18.7, 19.0, 19.6, 20.0,\n",
        "     21.0, 21.0, 21.0, 21.3, 22.0, 22.0, 22.0, 22.0, 22.0, 22.5,\n",
        "     22.5, 22.7, 23.0, 23.5, 24.0, 24.0, 24.6, 25.0, 25.6, 26.5,\n",
        "     27.3, 27.5, 27.5, 27.5, 28.0, 28.7, 30.0, 32.8, 34.5, 35.0,\n",
        "     36.5, 36.0, 37.0, 37.0, 39.0, 39.0, 39.0, 40.0, 40.0, 40.0,\n",
        "     40.0, 42.0, 43.0, 43.0, 43.5, 44.0]\n",
        "     )\n",
        "perch_weight = np.array(\n",
        "    [5.9, 32.0, 40.0, 51.5, 70.0, 100.0, 78.0, 80.0, 85.0, 85.0,\n",
        "     110.0, 115.0, 125.0, 130.0, 120.0, 120.0, 130.0, 135.0, 110.0,\n",
        "     130.0, 150.0, 145.0, 150.0, 170.0, 225.0, 145.0, 188.0, 180.0,\n",
        "     197.0, 218.0, 300.0, 260.0, 265.0, 250.0, 250.0, 300.0, 320.0,\n",
        "     514.0, 556.0, 840.0, 685.0, 700.0, 700.0, 690.0, 900.0, 650.0,\n",
        "     820.0, 850.0, 900.0, 1015.0, 820.0, 1100.0, 1000.0, 1100.0,\n",
        "     1000.0, 1000.0]\n",
        "     )\n",
        "\n"
      ],
      "metadata": {
        "id": "6ghJxOA5r0Bc"
      },
      "execution_count": 1,
      "outputs": []
    },
    {
      "cell_type": "markdown",
      "source": [
        "k최근접 이웃 회귀 알고리즘을 이용하여 데이터 세트를 훈련한 모델을 만들고 농어의 길이가 50일때 무게를 예측한다   시험\n",
        "\n",
        "- 데이터 전처리(자동) -> input과 target, 랜덤으로\n",
        "- 만들기"
      ],
      "metadata": {
        "id": "pZYJw2ALr7Gv"
      }
    },
    {
      "cell_type": "code",
      "source": [
        "from sklearn.model_selection import train_test_split\n",
        "\n",
        "#1. 데이터 나누기\n",
        "train_input, test_input, train_target, test_target = train_test_split(perch_length, perch_weight, random_state=42)\n",
        "print(train_input)\n",
        "print(test_input)\n",
        "\n",
        "#2. input을 2차원 배열로\n",
        "train_input = train_input.reshape(-1, 1)\n",
        "test_input = test_input.reshape(-1, 1)\n",
        "print(train_input)\n",
        "print(test_input)\n",
        "\n",
        "#3. 훈련하기\n",
        "from sklearn.neighbors import KNeighborsRegressor\n",
        "\n",
        "knr = KNeighborsRegressor(n_neighbors=3)\n",
        "knr.fit(train_input, train_target)\n",
        "\n",
        "print(knr.predict([[50]]))"
      ],
      "metadata": {
        "colab": {
          "base_uri": "https://localhost:8080/"
        },
        "id": "mt5_roLdsa4H",
        "outputId": "5c67d6f3-646b-4e90-932f-75833ab9f38b"
      },
      "execution_count": 2,
      "outputs": [
        {
          "output_type": "stream",
          "name": "stdout",
          "text": [
            "[19.6 22.  18.7 17.4 36.  25.  40.  39.  43.  22.  20.  22.  24.  27.5\n",
            " 43.  40.  24.  21.  27.5 40.  32.8 26.5 36.5 13.7 22.7 15.  37.  35.\n",
            " 28.7 23.5 39.  21.  23.  22.  44.  22.5 19.  37.  22.  25.6 42.  34.5]\n",
            "[ 8.4 18.  27.5 21.3 22.5 40.  30.  24.6 39.  21.  43.5 16.2 28.  27.3]\n",
            "[[19.6]\n",
            " [22. ]\n",
            " [18.7]\n",
            " [17.4]\n",
            " [36. ]\n",
            " [25. ]\n",
            " [40. ]\n",
            " [39. ]\n",
            " [43. ]\n",
            " [22. ]\n",
            " [20. ]\n",
            " [22. ]\n",
            " [24. ]\n",
            " [27.5]\n",
            " [43. ]\n",
            " [40. ]\n",
            " [24. ]\n",
            " [21. ]\n",
            " [27.5]\n",
            " [40. ]\n",
            " [32.8]\n",
            " [26.5]\n",
            " [36.5]\n",
            " [13.7]\n",
            " [22.7]\n",
            " [15. ]\n",
            " [37. ]\n",
            " [35. ]\n",
            " [28.7]\n",
            " [23.5]\n",
            " [39. ]\n",
            " [21. ]\n",
            " [23. ]\n",
            " [22. ]\n",
            " [44. ]\n",
            " [22.5]\n",
            " [19. ]\n",
            " [37. ]\n",
            " [22. ]\n",
            " [25.6]\n",
            " [42. ]\n",
            " [34.5]]\n",
            "[[ 8.4]\n",
            " [18. ]\n",
            " [27.5]\n",
            " [21.3]\n",
            " [22.5]\n",
            " [40. ]\n",
            " [30. ]\n",
            " [24.6]\n",
            " [39. ]\n",
            " [21. ]\n",
            " [43.5]\n",
            " [16.2]\n",
            " [28. ]\n",
            " [27.3]]\n",
            "[1033.33333333]\n"
          ]
        }
      ]
    },
    {
      "cell_type": "markdown",
      "source": [
        "길이가 길어질수록 무게가 늘어나야하는데 음....  \n",
        "\n",
        "산점도를 이용해 최근접 표현"
      ],
      "metadata": {
        "id": "rqHOkpCUwvC_"
      }
    },
    {
      "cell_type": "code",
      "source": [
        "import matplotlib.pyplot as plt\n",
        "\n",
        "# 50cm 농어의 이웃을 구합니다\n",
        "distances, indexes = knr.kneighbors([[50]])\n",
        "\n",
        "# 훈련 세트의 산점도를 그립니다\n",
        "plt.scatter(train_input, train_target)\n",
        "# 훈련 세트 중에서 이웃 샘플만 다시 그립니다\n",
        "plt.scatter(train_input[indexes], train_target[indexes], marker='D')\n",
        "# 50cm 농어 데이터\n",
        "plt.scatter(50, 1033, marker='^')\n",
        "plt.xlabel('length')\n",
        "plt.ylabel('weight')\n",
        "plt.show()"
      ],
      "metadata": {
        "colab": {
          "base_uri": "https://localhost:8080/",
          "height": 449
        },
        "id": "O2s7YXvxw2aU",
        "outputId": "c654ad67-fd95-4b4f-e9df-8a9a73403cd8"
      },
      "execution_count": 3,
      "outputs": [
        {
          "output_type": "display_data",
          "data": {
            "text/plain": [
              "<Figure size 640x480 with 1 Axes>"
            ],
            "image/png": "[encoded data removed]"
          },
          "metadata": {}
        }
      ]
    },
    {
      "cell_type": "markdown",
      "source": [
        "50과 가까운게 주황색들임\n",
        "길이가 길어지면 농어의 무게가 증가\n",
        "최근접 알고리즘이라 50과 가까운것을 예측함\n",
        "그래서"
      ],
      "metadata": {
        "id": "m3NZvqEixCxB"
      }
    },
    {
      "cell_type": "code",
      "source": [
        "print(np.mean(train_target[indexes]))\n",
        "\n",
        "#100cm  예측\n",
        "print(knr.predict([[100]]))"
      ],
      "metadata": {
        "colab": {
          "base_uri": "https://localhost:8080/"
        },
        "id": "HSbGItqvxKbk",
        "outputId": "2fe8386a-8eb6-4d3b-ab63-d9a19b5cf133"
      },
      "execution_count": 4,
      "outputs": [
        {
          "output_type": "stream",
          "name": "stdout",
          "text": [
            "1033.3333333333333\n",
            "[1033.33333333]\n"
          ]
        }
      ]
    },
    {
      "cell_type": "markdown",
      "source": [
        "해결하려면 k회귀알고리즘으로는 100의 경우도 100 주변의 데이터가 필요  \n",
        "- 선형회귀모델 !!!!! 중요 딥러닝떄 쓰임\n",
        "- 트성이 1개인경우 잘 나타네는 직선을 학습"
      ],
      "metadata": {
        "id": "6tEmVl4zxUH5"
      }
    },
    {
      "cell_type": "code",
      "source": [
        "from sklearn.linear_model import LinearRegression\n",
        "#객체생성\n",
        "lr = LinearRegression()\n",
        "# 선형 회귀 모델 훈련\n",
        "lr.fit(train_input, train_target)\n",
        "\n",
        "# 50cm 농어에 대한 예측\n",
        "print(lr.predict([[50]]))"
      ],
      "metadata": {
        "colab": {
          "base_uri": "https://localhost:8080/"
        },
        "id": "F2KEURsix2SE",
        "outputId": "9e612deb-05db-4603-c424-09304fe08aa4"
      },
      "execution_count": 5,
      "outputs": [
        {
          "output_type": "stream",
          "name": "stdout",
          "text": [
            "[1241.83860323]\n"
          ]
        }
      ]
    },
    {
      "cell_type": "markdown",
      "source": [
        "그래프 그리기  \n",
        "하나의 직선을 그리려면 기울기와 절편 알아야함  \n",
        "f(x) = ax + b  \n",
        "사이킷런은 최소제곱법을 선형회귀에 사용  \n",
        "  \n",
        "print(lr.coef_, lr.intercept_)  \n",
        "기울기, 절편이 저장됨"
      ],
      "metadata": {
        "id": "_R36n_ONx8lV"
      }
    },
    {
      "cell_type": "code",
      "source": [
        "print(lr.coef_, lr.intercept_)"
      ],
      "metadata": {
        "colab": {
          "base_uri": "https://localhost:8080/"
        },
        "id": "yuBC05IMykBg",
        "outputId": "3636f4e5-c2c4-4827-dbca-e6d3d3b7168d"
      },
      "execution_count": 6,
      "outputs": [
        {
          "output_type": "stream",
          "name": "stdout",
          "text": [
            "[39.01714496] -709.0186449535477\n"
          ]
        }
      ]
    },
    {
      "cell_type": "code",
      "source": [
        "\n",
        "\n",
        "# 훈련 세트의 산점도를 그립니다\n",
        "plt.scatter(train_input, train_target)\n",
        "\n",
        "# 15에서 50까지 1차 방정식 그래프를 그립니다\n",
        "plt.plot([15, 50], [15*lr.coef_+lr.intercept_, 50*lr.coef_+lr.intercept_])\n",
        "# X * 기울기 + 절편\n",
        "\n",
        "# 50cm 농어 데이터\n",
        "plt.scatter(50, 1241.8, marker='^')\n",
        "plt.xlabel('length')\n",
        "plt.ylabel('weight')\n",
        "plt.show()"
      ],
      "metadata": {
        "colab": {
          "base_uri": "https://localhost:8080/",
          "height": 449
        },
        "id": "m6FkJ6e3ybL1",
        "outputId": "4e1c759f-2f37-4095-baaf-20f54d77a539"
      },
      "execution_count": 7,
      "outputs": [
        {
          "output_type": "display_data",
          "data": {
            "text/plain": [
              "<Figure size 640x480 with 1 Axes>"
            ],
            "image/png": "[encoded data removed]"
          },
          "metadata": {}
        }
      ]
    },
    {
      "cell_type": "code",
      "source": [
        "x_bar = train_input.mean()\n",
        "y_bar = test_target.mean()\n",
        "a = ((train_input - x_bar).reshape(-1, ) * (train_target - y_bar)).sum() / ((train_input - x_bar)**2).sum()\n",
        "b = y_bar - a * x_bar\n",
        "\n",
        "print(b)\n"
      ],
      "metadata": {
        "colab": {
          "base_uri": "https://localhost:8080/"
        },
        "id": "kn6oFBEgzi_3",
        "outputId": "4e3a2a6a-97e5-4236-9f0c-0e39532e6151"
      },
      "execution_count": 8,
      "outputs": [
        {
          "output_type": "stream",
          "name": "stdout",
          "text": [
            "-783.3948354297381\n"
          ]
        }
      ]
    },
    {
      "cell_type": "markdown",
      "source": [
        "모델파라미터 알아야함!!!!  \n",
        "coed_ 와 interceot같이 머신러닝 알고리즘이 찾은 값\n",
        "\n",
        "모델기반 학습\n",
        "훈련 과정이 최적의 모델 파라미터를 찾는것  -> 선형회귀\n",
        "  \n",
        "사례기반 학습  \n",
        "훈련과정이 훈련세트 저장하는 것이 전부 -> k최근접 이웃\n"
      ],
      "metadata": {
        "id": "UWyEFMHPz2pZ"
      }
    },
    {
      "cell_type": "markdown",
      "source": [
        "과대적합인지 확인 -> R^2"
      ],
      "metadata": {
        "id": "6SUiynPK0pBW"
      }
    },
    {
      "cell_type": "code",
      "source": [
        "print(lr.score(train_input, train_target))\n",
        "print(lr.score(test_input, test_target))"
      ],
      "metadata": {
        "colab": {
          "base_uri": "https://localhost:8080/"
        },
        "id": "oZE133cZ0rd2",
        "outputId": "1bc9f627-3c24-4ae4-e8d4-8fb0a0755e85"
      },
      "execution_count": 9,
      "outputs": [
        {
          "output_type": "stream",
          "name": "stdout",
          "text": [
            "0.939846333997604\n",
            "0.8247503123313558\n"
          ]
        }
      ]
    },
    {
      "cell_type": "markdown",
      "source": [
        "테스트세트 점수가 낮음 과대적합??\n",
        "\n",
        "훈련세트 점수도 높지 않아서 과소적합\n",
        "\n",
        "그래프 문제 -> 무게가 마이너스가 될 수 있어서  \n",
        "곡선 찾기  \n",
        "\n",
        "2차방정식 -> 제곱한 항이 필요하다  \n",
        "a*길이^2  \n",
        "  \n",
        "   \n",
        "   numpy.colum_stack()\n",
        ""
      ],
      "metadata": {
        "id": "xi1lm7Mj05_f"
      }
    },
    {
      "cell_type": "code",
      "source": [
        "train_poly = np.column_stack((train_input ** 2, train_input))\n",
        "test_poly = np.column_stack((test_input ** 2, test_input))\n",
        "\n",
        "print(train_input.shape, test_input.shape)\n",
        "print(train_poly.shape, test_poly.shape)"
      ],
      "metadata": {
        "colab": {
          "base_uri": "https://localhost:8080/"
        },
        "id": "a9GRuznJ1WR9",
        "outputId": "179db001-4aa3-45b0-9df9-281992627804"
      },
      "execution_count": 10,
      "outputs": [
        {
          "output_type": "stream",
          "name": "stdout",
          "text": [
            "(42, 1) (14, 1)\n",
            "(42, 2) (14, 2)\n"
          ]
        }
      ]
    },
    {
      "cell_type": "code",
      "source": [
        "#다시 훈련하기\n",
        "\n",
        "lr = LinearRegression()\n",
        "lr.fit(train_poly, train_target)\n",
        "\n",
        "#2차원배열, 특성2개 (길이제곱, 길이)\n",
        "print(lr.predict([[50**2, 50]]))\n",
        "print(lr.coef_, lr.intercept_)"
      ],
      "metadata": {
        "colab": {
          "base_uri": "https://localhost:8080/"
        },
        "id": "aDGanBwf1gon",
        "outputId": "9c239671-a3b0-4189-b5d2-fe849b21f277"
      },
      "execution_count": 11,
      "outputs": [
        {
          "output_type": "stream",
          "name": "stdout",
          "text": [
            "[1573.98423528]\n",
            "[  1.01433211 -21.55792498] 116.0502107827827\n"
          ]
        }
      ]
    },
    {
      "cell_type": "markdown",
      "source": [
        "2차원 방식도 선형회귀인가???  \n",
        "- 1.01 길제곱 - 21 길이 + 116  \n"
      ],
      "metadata": {
        "id": "N1l925Yk1_io"
      }
    },
    {
      "cell_type": "code",
      "source": [
        "point = np.arange(10, 50)\n",
        "# 훈련 세트의 산점도를 그립니다\n",
        "plt.scatter(train_input, train_target)\n",
        "plt.plot(point,     lr.coef_[0]*point**2  +  lr.coef_[1]*point  +  lr.intercept_)\n",
        "\n",
        "aa = 50\n",
        "# 50cm 농어 데이터\n",
        "plt.scatter([50],    lr.predict([[50**2, 50]]),   marker='^')\n",
        "plt.scatter(aa,    lr.predict([[aa**2, aa]]),   marker='^')\n",
        "plt.xlabel('length')\n",
        "plt.ylabel('weight')\n",
        "plt.show()"
      ],
      "metadata": {
        "colab": {
          "base_uri": "https://localhost:8080/",
          "height": 449
        },
        "id": "qxSBtT2O2jEV",
        "outputId": "93865cb1-ed6f-4064-962f-acfa1bfdfb94"
      },
      "execution_count": 23,
      "outputs": [
        {
          "output_type": "display_data",
          "data": {
            "text/plain": [
              "<Figure size 640x480 with 1 Axes>"
            ],
            "image/png": "[encoded data removed]"
          },
          "metadata": {}
        }
      ]
    },
    {
      "cell_type": "code",
      "source": [
        "print(lr.score(train_poly, train_target))\n",
        "print(lr.score(test_poly, test_target))"
      ],
      "metadata": {
        "colab": {
          "base_uri": "https://localhost:8080/"
        },
        "id": "sJz8yOwJ22Zk",
        "outputId": "4ec7929d-a584-4573-a887-545ccfd8bed1"
      },
      "execution_count": 13,
      "outputs": [
        {
          "output_type": "stream",
          "name": "stdout",
          "text": [
            "0.9706807451768623\n",
            "0.9775935108325122\n"
          ]
        }
      ]
    },
    {
      "cell_type": "markdown",
      "source": [
        "과소적합 -> 복자반 모델 필요"
      ],
      "metadata": {
        "id": "n3GIa6kl23aJ"
      }
    }
  ]
}