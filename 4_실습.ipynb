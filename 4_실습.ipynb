{
  "nbformat": 4,
  "nbformat_minor": 0,
  "metadata": {
    "colab": {
      "provenance": [],
      "toc_visible": true,
      "authorship_tag": "ABX9TyMqIiR/jARnvhlEpFvtzXKm",
      "include_colab_link": true
    },
    "kernelspec": {
      "name": "python3",
      "display_name": "Python 3"
    },
    "language_info": {
      "name": "python"
    }
  },
  "cells": [
    {
      "cell_type": "markdown",
      "metadata": {
        "id": "view-in-github",
        "colab_type": "text"
      },
      "source": [
        "<a href=\"https://colab.research.google.com/github/gammapasta/machineLearning/blob/main/4_%EC%8B%A4%EC%8A%B5.ipynb\" target=\"_parent\"><img src=\"https://colab.research.google.com/assets/colab-badge.svg\" alt=\"Open In Colab\"/></a>"
      ]
    },
    {
      "cell_type": "markdown",
      "source": [
        "#데이터 준비\n",
        "riris 데이터 세트 (다중분류)"
      ],
      "metadata": {
        "id": "TUQn0D9_Du4y"
      }
    },
    {
      "cell_type": "code",
      "execution_count": 25,
      "metadata": {
        "id": "pvuKrZi8DqCU"
      },
      "outputs": [],
      "source": [
        "import pandas as pd\n",
        "iris = pd.read_csv('https://raw.githubusercontent.com/jmnote/zdata/master/R/iris.csv')\n"
      ]
    },
    {
      "cell_type": "markdown",
      "source": [
        "#클래스 추출\n",
        "데이터에 어떤 클래스가 있는지 확인해보자"
      ],
      "metadata": {
        "id": "-CIxAQ4pEAbC"
      }
    },
    {
      "cell_type": "code",
      "source": [
        "print(iris)\n",
        "print(pd.unique(iris['Species']))"
      ],
      "metadata": {
        "colab": {
          "base_uri": "https://localhost:8080/"
        },
        "id": "1A6Gbhu4EWZJ",
        "outputId": "b065b6e3-3bb9-4e1d-86d0-d8bdad953076"
      },
      "execution_count": 12,
      "outputs": [
        {
          "output_type": "stream",
          "name": "stdout",
          "text": [
            "     Sepal.Length  Sepal.Width  Petal.Length  Petal.Width    Species\n",
            "0             5.1          3.5           1.4          0.2     setosa\n",
            "1             4.9          3.0           1.4          0.2     setosa\n",
            "2             4.7          3.2           1.3          0.2     setosa\n",
            "3             4.6          3.1           1.5          0.2     setosa\n",
            "4             5.0          3.6           1.4          0.2     setosa\n",
            "..            ...          ...           ...          ...        ...\n",
            "145           6.7          3.0           5.2          2.3  virginica\n",
            "146           6.3          2.5           5.0          1.9  virginica\n",
            "147           6.5          3.0           5.2          2.0  virginica\n",
            "148           6.2          3.4           5.4          2.3  virginica\n",
            "149           5.9          3.0           5.1          1.8  virginica\n",
            "\n",
            "[150 rows x 5 columns]\n",
            "['setosa' 'versicolor' 'virginica']\n"
          ]
        }
      ]
    },
    {
      "cell_type": "markdown",
      "source": [
        "#입력 데이터와 정답 데이터를 생성하자\n",
        "입력 데이터는 iris_input  \n",
        "정답 데이터는 iris_target  \n",
        "5번쨰까지 데이터를 각각 출력"
      ],
      "metadata": {
        "id": "wnAE4_-YEdzH"
      }
    },
    {
      "cell_type": "code",
      "source": [
        "iris_input = iris[['Sepal.Length', 'Sepal.Width', 'Petal.Length', 'Petal.Width']].to_numpy()\n",
        "iris_target = iris['Species'].to_numpy()\n",
        "\n",
        "print(iris_input[:5])"
      ],
      "metadata": {
        "colab": {
          "base_uri": "https://localhost:8080/"
        },
        "id": "Iv8iME4dEcV9",
        "outputId": "72850eca-527f-4422-9789-b4c2730267ae"
      },
      "execution_count": 17,
      "outputs": [
        {
          "output_type": "stream",
          "name": "stdout",
          "text": [
            "[[5.1 3.5 1.4 0.2]\n",
            " [4.9 3.  1.4 0.2]\n",
            " [4.7 3.2 1.3 0.2]\n",
            " [4.6 3.1 1.5 0.2]\n",
            " [5.  3.6 1.4 0.2]]\n"
          ]
        }
      ]
    },
    {
      "cell_type": "markdown",
      "source": [
        "#훈련 세트와 테스트 세트로 나누자\n",
        "train_input, test_input, train_target, test_target  \n",
        "</br>\n",
        "train_input, train_target의 형태를 출력하자  \n",
        "\n",
        "데이터 석어야함 stratify"
      ],
      "metadata": {
        "id": "2-3_us2JEtEm"
      }
    },
    {
      "cell_type": "code",
      "source": [
        "from sklearn.model_selection import train_test_split\n",
        "\n",
        "train_input, test_input, train_target, test_target   = train_test_split(iris_input, iris_target, random_state=42, stratify=iris_target)\n",
        "\n",
        "print(train_input.shape, train_target.shape)"
      ],
      "metadata": {
        "colab": {
          "base_uri": "https://localhost:8080/"
        },
        "id": "XWhbwjnUISIs",
        "outputId": "0d3e4936-2c68-415f-f419-e686d46a8583"
      },
      "execution_count": 23,
      "outputs": [
        {
          "output_type": "stream",
          "name": "stdout",
          "text": [
            "(112, 4) (112,)\n"
          ]
        }
      ]
    },
    {
      "cell_type": "markdown",
      "source": [
        "#데이터 표준화\n"
      ],
      "metadata": {
        "id": "3xoiefSrFnnM"
      }
    },
    {
      "cell_type": "code",
      "source": [
        "from sklearn.preprocessing import StandardScaler\n",
        "\n",
        "ss = StandardScaler()\n",
        "ss.fit(train_input)\n",
        "train_scaled = ss.transform(train_input)\n",
        "test_scaled = ss.transform(test_input)"
      ],
      "metadata": {
        "id": "JsvHUsRUJCp1"
      },
      "execution_count": 24,
      "outputs": []
    },
    {
      "cell_type": "markdown",
      "source": [
        "# k최근접 이웃 알고리즘을 이용하여 훈련하고 훈련 세트와 테스트 세트에 대해 평가"
      ],
      "metadata": {
        "id": "6eA_18G_Ez2_"
      }
    },
    {
      "cell_type": "code",
      "source": [
        "from sklearn.neighbors import KNeighborsClassifier\n",
        "\n",
        "kn = KNeighborsClassifier(n_neighbors=3)\n",
        "kn.fit(train_scaled, train_target)\n",
        "\n",
        "print(kn.score(train_scaled, train_target))\n",
        "print(kn.score(test_scaled, test_target))"
      ],
      "metadata": {
        "colab": {
          "base_uri": "https://localhost:8080/"
        },
        "id": "I5nqSw7SJMEC",
        "outputId": "826ae3cb-3645-421e-a481-f339024cdbf6"
      },
      "execution_count": 32,
      "outputs": [
        {
          "output_type": "stream",
          "name": "stdout",
          "text": [
            "0.9642857142857143\n",
            "0.9210526315789473\n"
          ]
        }
      ]
    },
    {
      "cell_type": "markdown",
      "source": [
        "#테스트 세트의 5개의 데이터에 대해 예측과 확률을 알아보자"
      ],
      "metadata": {
        "id": "Z8MAvWYpE0TV"
      }
    },
    {
      "cell_type": "code",
      "source": [
        "print(kn.predict(test_scaled[:5]))"
      ],
      "metadata": {
        "colab": {
          "base_uri": "https://localhost:8080/"
        },
        "id": "6POzJoIyKOw3",
        "outputId": "52ac84e5-68c8-4586-cadc-da2b5bfba409"
      },
      "execution_count": 35,
      "outputs": [
        {
          "output_type": "stream",
          "name": "stdout",
          "text": [
            "['setosa' 'versicolor' 'versicolor' 'versicolor' 'setosa']\n"
          ]
        }
      ]
    },
    {
      "cell_type": "markdown",
      "source": [
        "#최적화\n",
        "\n"
      ],
      "metadata": {
        "id": "pCW8QGM5E0ZE"
      }
    },
    {
      "cell_type": "code",
      "source": [
        "i = 1\n",
        "while i < 20:\n",
        "  print(\"i= \", i)\n",
        "  kn = KNeighborsClassifier(n_neighbors=i)\n",
        "  kn.fit(train_scaled, train_target)\n",
        "  print(kn.score(train_scaled, train_target))\n",
        "  print(kn.score(test_scaled, test_target))\n",
        "  i = i + 1\n",
        "\n"
      ],
      "metadata": {
        "colab": {
          "base_uri": "https://localhost:8080/"
        },
        "id": "_w6_GWWeKszW",
        "outputId": "0ca0a6e6-8da2-4bf1-cc74-05ce9c9b63d7"
      },
      "execution_count": 44,
      "outputs": [
        {
          "output_type": "stream",
          "name": "stdout",
          "text": [
            "i=  1\n",
            "1.0\n",
            "0.9473684210526315\n",
            "i=  2\n",
            "0.9732142857142857\n",
            "0.9210526315789473\n",
            "i=  3\n",
            "0.9642857142857143\n",
            "0.9210526315789473\n",
            "i=  4\n",
            "0.9642857142857143\n",
            "0.9210526315789473\n",
            "i=  5\n",
            "0.9821428571428571\n",
            "0.9210526315789473\n",
            "i=  6\n",
            "0.9642857142857143\n",
            "0.9210526315789473\n",
            "i=  7\n",
            "0.9732142857142857\n",
            "0.9473684210526315\n",
            "i=  8\n",
            "0.9642857142857143\n",
            "0.9210526315789473\n",
            "i=  9\n",
            "0.9642857142857143\n",
            "0.9736842105263158\n",
            "i=  10\n",
            "0.9732142857142857\n",
            "0.9736842105263158\n",
            "i=  11\n",
            "0.9553571428571429\n",
            "0.9736842105263158\n",
            "i=  12\n",
            "0.9732142857142857\n",
            "0.9736842105263158\n",
            "i=  13\n",
            "0.9642857142857143\n",
            "0.9736842105263158\n",
            "i=  14\n",
            "0.9732142857142857\n",
            "0.9473684210526315\n",
            "i=  15\n",
            "0.9732142857142857\n",
            "0.9736842105263158\n",
            "i=  16\n",
            "0.9732142857142857\n",
            "0.9736842105263158\n",
            "i=  17\n",
            "0.9732142857142857\n",
            "0.9736842105263158\n",
            "i=  18\n",
            "0.9732142857142857\n",
            "0.9736842105263158\n",
            "i=  19\n",
            "0.9732142857142857\n",
            "0.9473684210526315\n"
          ]
        }
      ]
    },
    {
      "cell_type": "code",
      "source": [
        "  #10일떄 가장 높음\n",
        "  kn = KNeighborsClassifier(n_neighbors=10)\n",
        "  kn.fit(train_scaled, train_target)\n",
        "  print(kn.score(train_scaled, train_target))\n",
        "  print(kn.score(test_scaled, test_target))"
      ],
      "metadata": {
        "colab": {
          "base_uri": "https://localhost:8080/"
        },
        "id": "lWfiSpwdL4f5",
        "outputId": "f87bac7b-ae8b-4b93-b6fe-5916661d3ebb"
      },
      "execution_count": 45,
      "outputs": [
        {
          "output_type": "stream",
          "name": "stdout",
          "text": [
            "0.9732142857142857\n",
            "0.9736842105263158\n"
          ]
        }
      ]
    },
    {
      "cell_type": "markdown",
      "source": [
        "#로지스틱 회귀를 이용하여 다중 분류 훈련 및 최적화하기"
      ],
      "metadata": {
        "id": "PU-QmcPNKfi-"
      }
    },
    {
      "cell_type": "code",
      "source": [
        "from sklearn.linear_model import LogisticRegression\n",
        "lr = LogisticRegression(C = 20, max_iter=1000) #매개변수 넣기\n",
        "\n",
        "#객체생성, 훈련\n",
        "lr.fit(train_scaled, train_target)\n",
        "print(lr.score(train_scaled, train_target))\n",
        "print(lr.score(test_scaled, test_target))\n",
        "\n",
        "#5까지 예측\n",
        "print(lr.predict(test_scaled[:5]))\n",
        "\n",
        "import numpy as np\n",
        "proba = lr.predict_proba(test_scaled[:5]) #예측한 확률을 숫자로 출력\n",
        "print(np.round(proba, decimals=3))\n",
        "\n",
        "print(lr.classes_)\n",
        "print(lr.coef_.shape, lr.intercept_.shape) #클래스마다 계수와 절편을 만든다 5개의 특성을 사용하므로 열은 5개 타깃은 7개이므로 7개\n",
        "\n",
        "decision = lr.decision_function(test_scaled[:5])\n",
        "print(np.round(decision, decimals=2))\n",
        "\n",
        "from scipy.special import softmax\n",
        "\n",
        "proba = softmax(decision, axis=1) #가로로 row 를 사용해서 시험!!!!!!!!!!!!!!!!!!!!!!!!!!!!!!!\n",
        "print(np.round(proba, decimals=3))"
      ],
      "metadata": {
        "colab": {
          "base_uri": "https://localhost:8080/"
        },
        "id": "wFnUacdvMo7f",
        "outputId": "cc243b45-6596-4af5-f44e-7790c62a517c"
      },
      "execution_count": 55,
      "outputs": [
        {
          "output_type": "stream",
          "name": "stdout",
          "text": [
            "0.9821428571428571\n",
            "0.9473684210526315\n",
            "['setosa' 'versicolor' 'versicolor' 'versicolor' 'setosa']\n",
            "[[0.999 0.001 0.   ]\n",
            " [0.003 0.938 0.059]\n",
            " [0.004 0.994 0.001]\n",
            " [0.    0.995 0.004]\n",
            " [0.998 0.002 0.   ]]\n",
            "['setosa' 'versicolor' 'virginica']\n",
            "(3, 4) (3,)\n",
            "[[ 14.49   7.22 -21.71]\n",
            " [ -2.88   2.82   0.06]\n",
            " [ -1.46   3.99  -2.52]\n",
            " [ -3.4    4.44  -1.04]\n",
            " [ 13.45   7.44 -20.9 ]]\n",
            "[[0.999 0.001 0.   ]\n",
            " [0.003 0.938 0.059]\n",
            " [0.004 0.994 0.001]\n",
            " [0.    0.995 0.004]\n",
            " [0.998 0.002 0.   ]]\n"
          ]
        }
      ]
    },
    {
      "cell_type": "markdown",
      "source": [
        "#확률적 경사 하강법을 이용하여 다중 분류 훈련 밑 최적화 하기"
      ],
      "metadata": {
        "id": "5B72GKDMKjd5"
      }
    },
    {
      "cell_type": "code",
      "source": [
        "from sklearn.linear_model import SGDClassifier\n",
        "#객체 생성\n",
        "sc = SGDClassifier(loss='log_loss', max_iter=100, random_state=42) #100에포크씩 훈련\n",
        "\n",
        "#훈련\n",
        "sc.fit(train_scaled, train_target)\n",
        "\n",
        "#평가\n",
        "print(sc.score(train_scaled, train_target))\n",
        "print(sc.score(test_scaled, test_target))\n",
        "print(sc.coef_, sc.intercept_) #모델 파라미터 fit쓰면 지우고 다시 하지만 partialfit은 아님\n",
        "\n",
        "sc = SGDClassifier(loss='log_loss', random_state=42)\n",
        "\n",
        "train_score = []\n",
        "test_score = []\n",
        "\n",
        "classes = np.unique(train_target)\n",
        "\n",
        "\n",
        "\n",
        "\n",
        "for _ in range(0, 200):\n",
        "    sc.partial_fit(train_scaled, train_target, classes=classes)\n",
        "\n",
        "    train_score.append(sc.score(train_scaled, train_target))\n",
        "    test_score.append(sc.score(test_scaled, test_target))\n",
        "\n",
        "\n",
        "\n",
        "\n",
        "\n",
        "import matplotlib.pyplot as plt\n",
        "plt.plot(train_score)\n",
        "plt.plot(test_score)\n",
        "plt.xlabel('epoch')\n",
        "plt.ylabel('accuracy')\n",
        "plt.show()\n",
        "#갭이 가장 작은거 선"
      ],
      "metadata": {
        "colab": {
          "base_uri": "https://localhost:8080/",
          "height": 542
        },
        "id": "mvJoUm2DNsuW",
        "outputId": "c20039ca-878b-4808-e18f-5db89bc9c620"
      },
      "execution_count": 87,
      "outputs": [
        {
          "output_type": "stream",
          "name": "stdout",
          "text": [
            "0.8035714285714286\n",
            "0.7894736842105263\n",
            "[[ -1.7869281    2.95630265  -3.40604012  -3.24188287]\n",
            " [ -4.99018037  -4.40722501   9.69137377  -7.79752907]\n",
            " [ -0.84386405 -11.2561908   27.79121832  31.79025786]] [ -4.59859683 -11.36007382 -31.47659983]\n"
          ]
        },
        {
          "output_type": "display_data",
          "data": {
            "text/plain": [
              "<Figure size 640x480 with 1 Axes>"
            ],
            "image/png": "[encoded data removed]"
          },
          "metadata": {}
        }
      ]
    },
    {
      "cell_type": "markdown",
      "source": [
        "#와인 퀄리티 데이터"
      ],
      "metadata": {
        "id": "wRBuWujlQ-Zv"
      }
    },
    {
      "cell_type": "code",
      "source": [
        "from google.colab import drive\n",
        "drive.mount('/content/drive')"
      ],
      "metadata": {
        "colab": {
          "base_uri": "https://localhost:8080/"
        },
        "id": "SVgVNObzRAOK",
        "outputId": "d89de94d-896a-425d-ea86-77db1432bd23"
      },
      "execution_count": 58,
      "outputs": [
        {
          "output_type": "stream",
          "name": "stdout",
          "text": [
            "Mounted at /content/drive\n"
          ]
        }
      ]
    },
    {
      "cell_type": "code",
      "source": [
        "wine = pd.read_csv('/content/drive/MyDrive/Colab Notebooks/winequality-red.csv', sep=';')\n",
        "wine.head()\n",
        "\n",
        "#타겟 데이터 없음"
      ],
      "metadata": {
        "colab": {
          "base_uri": "https://localhost:8080/",
          "height": 261
        },
        "id": "HA_Rpm_ARJBO",
        "outputId": "99100ca4-ef20-44a9-f64a-9c3837b06756"
      },
      "execution_count": 60,
      "outputs": [
        {
          "output_type": "execute_result",
          "data": {
            "text/plain": [
              "   fixed acidity  volatile acidity  citric acid  residual sugar  chlorides  \\\n",
              "0            7.4              0.70         0.00             1.9      0.076   \n",
              "1            7.8              0.88         0.00             2.6      0.098   \n",
              "2            7.8              0.76         0.04             2.3      0.092   \n",
              "3           11.2              0.28         0.56             1.9      0.075   \n",
              "4            7.4              0.70         0.00             1.9      0.076   \n",
              "\n",
              "   free sulfur dioxide  total sulfur dioxide  density    pH  sulphates  \\\n",
              "0                 11.0                  34.0   0.9978  3.51       0.56   \n",
              "1                 25.0                  67.0   0.9968  3.20       0.68   \n",
              "2                 15.0                  54.0   0.9970  3.26       0.65   \n",
              "3                 17.0                  60.0   0.9980  3.16       0.58   \n",
              "4                 11.0                  34.0   0.9978  3.51       0.56   \n",
              "\n",
              "   alcohol  quality  \n",
              "0      9.4        5  \n",
              "1      9.8        5  \n",
              "2      9.8        5  \n",
              "3      9.8        6  \n",
              "4      9.4        5  "
            ],
            "text/html": [
              "\n",
              "  <div id=\"df-51675543-36c5-4951-8085-6628540b67f7\" class=\"colab-df-container\">\n",
              "    <div>\n",
              "<style scoped>\n",
              "    .dataframe tbody tr th:only-of-type {\n",
              "        vertical-align: middle;\n",
              "    }\n",
              "\n",
              "    .dataframe tbody tr th {\n",
              "        vertical-align: top;\n",
              "    }\n",
              "\n",
              "    .dataframe thead th {\n",
              "        text-align: right;\n",
              "    }\n",
              "</style>\n",
              "<table border=\"1\" class=\"dataframe\">\n",
              "  <thead>\n",
              "    <tr style=\"text-align: right;\">\n",
              "      <th></th>\n",
              "      <th>fixed acidity</th>\n",
              "      <th>volatile acidity</th>\n",
              "      <th>citric acid</th>\n",
              "      <th>residual sugar</th>\n",
              "      <th>chlorides</th>\n",
              "      <th>free sulfur dioxide</th>\n",
              "      <th>total sulfur dioxide</th>\n",
              "      <th>density</th>\n",
              "      <th>pH</th>\n",
              "      <th>sulphates</th>\n",
              "      <th>alcohol</th>\n",
              "      <th>quality</th>\n",
              "    </tr>\n",
              "  </thead>\n",
              "  <tbody>\n",
              "    <tr>\n",
              "      <th>0</th>\n",
              "      <td>7.4</td>\n",
              "      <td>0.70</td>\n",
              "      <td>0.00</td>\n",
              "      <td>1.9</td>\n",
              "      <td>0.076</td>\n",
              "      <td>11.0</td>\n",
              "      <td>34.0</td>\n",
              "      <td>0.9978</td>\n",
              "      <td>3.51</td>\n",
              "      <td>0.56</td>\n",
              "      <td>9.4</td>\n",
              "      <td>5</td>\n",
              "    </tr>\n",
              "    <tr>\n",
              "      <th>1</th>\n",
              "      <td>7.8</td>\n",
              "      <td>0.88</td>\n",
              "      <td>0.00</td>\n",
              "      <td>2.6</td>\n",
              "      <td>0.098</td>\n",
              "      <td>25.0</td>\n",
              "      <td>67.0</td>\n",
              "      <td>0.9968</td>\n",
              "      <td>3.20</td>\n",
              "      <td>0.68</td>\n",
              "      <td>9.8</td>\n",
              "      <td>5</td>\n",
              "    </tr>\n",
              "    <tr>\n",
              "      <th>2</th>\n",
              "      <td>7.8</td>\n",
              "      <td>0.76</td>\n",
              "      <td>0.04</td>\n",
              "      <td>2.3</td>\n",
              "      <td>0.092</td>\n",
              "      <td>15.0</td>\n",
              "      <td>54.0</td>\n",
              "      <td>0.9970</td>\n",
              "      <td>3.26</td>\n",
              "      <td>0.65</td>\n",
              "      <td>9.8</td>\n",
              "      <td>5</td>\n",
              "    </tr>\n",
              "    <tr>\n",
              "      <th>3</th>\n",
              "      <td>11.2</td>\n",
              "      <td>0.28</td>\n",
              "      <td>0.56</td>\n",
              "      <td>1.9</td>\n",
              "      <td>0.075</td>\n",
              "      <td>17.0</td>\n",
              "      <td>60.0</td>\n",
              "      <td>0.9980</td>\n",
              "      <td>3.16</td>\n",
              "      <td>0.58</td>\n",
              "      <td>9.8</td>\n",
              "      <td>6</td>\n",
              "    </tr>\n",
              "    <tr>\n",
              "      <th>4</th>\n",
              "      <td>7.4</td>\n",
              "      <td>0.70</td>\n",
              "      <td>0.00</td>\n",
              "      <td>1.9</td>\n",
              "      <td>0.076</td>\n",
              "      <td>11.0</td>\n",
              "      <td>34.0</td>\n",
              "      <td>0.9978</td>\n",
              "      <td>3.51</td>\n",
              "      <td>0.56</td>\n",
              "      <td>9.4</td>\n",
              "      <td>5</td>\n",
              "    </tr>\n",
              "  </tbody>\n",
              "</table>\n",
              "</div>\n",
              "    <div class=\"colab-df-buttons\">\n",
              "\n",
              "  <div class=\"colab-df-container\">\n",
              "    <button class=\"colab-df-convert\" onclick=\"convertToInteractive('df-51675543-36c5-4951-8085-6628540b67f7')\"\n",
              "            title=\"Convert this dataframe to an interactive table.\"\n",
              "            style=\"display:none;\">\n",
              "\n",
              "  <svg xmlns=\"http://www.w3.org/2000/svg\" height=\"24px\" viewBox=\"0 -960 960 960\">\n",
              "    <path d=\"M120-120v-720h720v720H120Zm60-500h600v-160H180v160Zm220 220h160v-160H400v160Zm0 220h160v-160H400v160ZM180-400h160v-160H180v160Zm440 0h160v-160H620v160ZM180-180h160v-160H180v160Zm440 0h160v-160H620v160Z\"/>\n",
              "  </svg>\n",
              "    </button>\n",
              "\n",
              "  <style>\n",
              "    .colab-df-container {\n",
              "      display:flex;\n",
              "      gap: 12px;\n",
              "    }\n",
              "\n",
              "    .colab-df-convert {\n",
              "      background-color: #E8F0FE;\n",
              "      border: none;\n",
              "      border-radius: 50%;\n",
              "      cursor: pointer;\n",
              "      display: none;\n",
              "      fill: #1967D2;\n",
              "      height: 32px;\n",
              "      padding: 0 0 0 0;\n",
              "      width: 32px;\n",
              "    }\n",
              "\n",
              "    .colab-df-convert:hover {\n",
              "      background-color: #E2EBFA;\n",
              "      box-shadow: 0px 1px 2px rgba(60, 64, 67, 0.3), 0px 1px 3px 1px rgba(60, 64, 67, 0.15);\n",
              "      fill: #174EA6;\n",
              "    }\n",
              "\n",
              "    .colab-df-buttons div {\n",
              "      margin-bottom: 4px;\n",
              "    }\n",
              "\n",
              "    [theme=dark] .colab-df-convert {\n",
              "      background-color: #3B4455;\n",
              "      fill: #D2E3FC;\n",
              "    }\n",
              "\n",
              "    [theme=dark] .colab-df-convert:hover {\n",
              "      background-color: #434B5C;\n",
              "      box-shadow: 0px 1px 3px 1px rgba(0, 0, 0, 0.15);\n",
              "      filter: drop-shadow(0px 1px 2px rgba(0, 0, 0, 0.3));\n",
              "      fill: #FFFFFF;\n",
              "    }\n",
              "  </style>\n",
              "\n",
              "    <script>\n",
              "      const buttonEl =\n",
              "        document.querySelector('#df-51675543-36c5-4951-8085-6628540b67f7 button.colab-df-convert');\n",
              "      buttonEl.style.display =\n",
              "        google.colab.kernel.accessAllowed ? 'block' : 'none';\n",
              "\n",
              "      async function convertToInteractive(key) {\n",
              "        const element = document.querySelector('#df-51675543-36c5-4951-8085-6628540b67f7');\n",
              "        const dataTable =\n",
              "          await google.colab.kernel.invokeFunction('convertToInteractive',\n",
              "                                                    [key], {});\n",
              "        if (!dataTable) return;\n",
              "\n",
              "        const docLinkHtml = 'Like what you see? Visit the ' +\n",
              "          '<a target=\"_blank\" href=https://colab.research.google.com/notebooks/data_table.ipynb>data table notebook</a>'\n",
              "          + ' to learn more about interactive tables.';\n",
              "        element.innerHTML = '';\n",
              "        dataTable['output_type'] = 'display_data';\n",
              "        await google.colab.output.renderOutput(dataTable, element);\n",
              "        const docLink = document.createElement('div');\n",
              "        docLink.innerHTML = docLinkHtml;\n",
              "        element.appendChild(docLink);\n",
              "      }\n",
              "    </script>\n",
              "  </div>\n",
              "\n",
              "\n",
              "<div id=\"df-58a6f69b-981e-4de1-ba53-c98516f626d5\">\n",
              "  <button class=\"colab-df-quickchart\" onclick=\"quickchart('df-58a6f69b-981e-4de1-ba53-c98516f626d5')\"\n",
              "            title=\"Suggest charts.\"\n",
              "            style=\"display:none;\">\n",
              "\n",
              "<svg xmlns=\"http://www.w3.org/2000/svg\" height=\"24px\"viewBox=\"0 0 24 24\"\n",
              "     width=\"24px\">\n",
              "    <g>\n",
              "        <path d=\"M19 3H5c-1.1 0-2 .9-2 2v14c0 1.1.9 2 2 2h14c1.1 0 2-.9 2-2V5c0-1.1-.9-2-2-2zM9 17H7v-7h2v7zm4 0h-2V7h2v10zm4 0h-2v-4h2v4z\"/>\n",
              "    </g>\n",
              "</svg>\n",
              "  </button>\n",
              "\n",
              "<style>\n",
              "  .colab-df-quickchart {\n",
              "      --bg-color: #E8F0FE;\n",
              "      --fill-color: #1967D2;\n",
              "      --hover-bg-color: #E2EBFA;\n",
              "      --hover-fill-color: #174EA6;\n",
              "      --disabled-fill-color: #AAA;\n",
              "      --disabled-bg-color: #DDD;\n",
              "  }\n",
              "\n",
              "  [theme=dark] .colab-df-quickchart {\n",
              "      --bg-color: #3B4455;\n",
              "      --fill-color: #D2E3FC;\n",
              "      --hover-bg-color: #434B5C;\n",
              "      --hover-fill-color: #FFFFFF;\n",
              "      --disabled-bg-color: #3B4455;\n",
              "      --disabled-fill-color: #666;\n",
              "  }\n",
              "\n",
              "  .colab-df-quickchart {\n",
              "    background-color: var(--bg-color);\n",
              "    border: none;\n",
              "    border-radius: 50%;\n",
              "    cursor: pointer;\n",
              "    display: none;\n",
              "    fill: var(--fill-color);\n",
              "    height: 32px;\n",
              "    padding: 0;\n",
              "    width: 32px;\n",
              "  }\n",
              "\n",
              "  .colab-df-quickchart:hover {\n",
              "    background-color: var(--hover-bg-color);\n",
              "    box-shadow: 0 1px 2px rgba(60, 64, 67, 0.3), 0 1px 3px 1px rgba(60, 64, 67, 0.15);\n",
              "    fill: var(--button-hover-fill-color);\n",
              "  }\n",
              "\n",
              "  .colab-df-quickchart-complete:disabled,\n",
              "  .colab-df-quickchart-complete:disabled:hover {\n",
              "    background-color: var(--disabled-bg-color);\n",
              "    fill: var(--disabled-fill-color);\n",
              "    box-shadow: none;\n",
              "  }\n",
              "\n",
              "  .colab-df-spinner {\n",
              "    border: 2px solid var(--fill-color);\n",
              "    border-color: transparent;\n",
              "    border-bottom-color: var(--fill-color);\n",
              "    animation:\n",
              "      spin 1s steps(1) infinite;\n",
              "  }\n",
              "\n",
              "  @keyframes spin {\n",
              "    0% {\n",
              "      border-color: transparent;\n",
              "      border-bottom-color: var(--fill-color);\n",
              "      border-left-color: var(--fill-color);\n",
              "    }\n",
              "    20% {\n",
              "      border-color: transparent;\n",
              "      border-left-color: var(--fill-color);\n",
              "      border-top-color: var(--fill-color);\n",
              "    }\n",
              "    30% {\n",
              "      border-color: transparent;\n",
              "      border-left-color: var(--fill-color);\n",
              "      border-top-color: var(--fill-color);\n",
              "      border-right-color: var(--fill-color);\n",
              "    }\n",
              "    40% {\n",
              "      border-color: transparent;\n",
              "      border-right-color: var(--fill-color);\n",
              "      border-top-color: var(--fill-color);\n",
              "    }\n",
              "    60% {\n",
              "      border-color: transparent;\n",
              "      border-right-color: var(--fill-color);\n",
              "    }\n",
              "    80% {\n",
              "      border-color: transparent;\n",
              "      border-right-color: var(--fill-color);\n",
              "      border-bottom-color: var(--fill-color);\n",
              "    }\n",
              "    90% {\n",
              "      border-color: transparent;\n",
              "      border-bottom-color: var(--fill-color);\n",
              "    }\n",
              "  }\n",
              "</style>\n",
              "\n",
              "  <script>\n",
              "    async function quickchart(key) {\n",
              "      const quickchartButtonEl =\n",
              "        document.querySelector('#' + key + ' button');\n",
              "      quickchartButtonEl.disabled = true;  // To prevent multiple clicks.\n",
              "      quickchartButtonEl.classList.add('colab-df-spinner');\n",
              "      try {\n",
              "        const charts = await google.colab.kernel.invokeFunction(\n",
              "            'suggestCharts', [key], {});\n",
              "      } catch (error) {\n",
              "        console.error('Error during call to suggestCharts:', error);\n",
              "      }\n",
              "      quickchartButtonEl.classList.remove('colab-df-spinner');\n",
              "      quickchartButtonEl.classList.add('colab-df-quickchart-complete');\n",
              "    }\n",
              "    (() => {\n",
              "      let quickchartButtonEl =\n",
              "        document.querySelector('#df-58a6f69b-981e-4de1-ba53-c98516f626d5 button');\n",
              "      quickchartButtonEl.style.display =\n",
              "        google.colab.kernel.accessAllowed ? 'block' : 'none';\n",
              "    })();\n",
              "  </script>\n",
              "</div>\n",
              "    </div>\n",
              "  </div>\n"
            ]
          },
          "metadata": {},
          "execution_count": 60
        }
      ]
    },
    {
      "cell_type": "code",
      "source": [
        "print(pd.unique(wine['quality']))\n",
        "\n",
        "#빈값 있는지\n",
        "print(wine.isnull().any())"
      ],
      "metadata": {
        "colab": {
          "base_uri": "https://localhost:8080/"
        },
        "id": "e3sgxSVGRaAt",
        "outputId": "3f4b5364-3bf1-4f2a-b163-9e199906ed85"
      },
      "execution_count": 86,
      "outputs": [
        {
          "output_type": "stream",
          "name": "stdout",
          "text": [
            "[5 6 7 4 8 3]\n",
            "fixed acidity           False\n",
            "volatile acidity        False\n",
            "citric acid             False\n",
            "residual sugar          False\n",
            "chlorides               False\n",
            "free sulfur dioxide     False\n",
            "total sulfur dioxide    False\n",
            "density                 False\n",
            "pH                      False\n",
            "sulphates               False\n",
            "alcohol                 False\n",
            "quality                 False\n",
            "dtype: bool\n"
          ]
        }
      ]
    },
    {
      "cell_type": "code",
      "source": [
        "wine_input = wine[['fixed acidity','volatile acidity', 'citric acid', 'residual sugar',\t'chlorides',\t'free sulfur dioxide',\t'total sulfur dioxide',\t'density',\t'pH',\t'sulphates',\t'alcohol']].to_numpy()\n",
        "wine_target = wine['quality'].to_numpy()\n",
        "\n",
        "print(wine_input[:5])"
      ],
      "metadata": {
        "colab": {
          "base_uri": "https://localhost:8080/"
        },
        "id": "THZux8vOR8OG",
        "outputId": "9cc6d049-c06f-4cf5-dac3-eaaabb5e9489"
      },
      "execution_count": 74,
      "outputs": [
        {
          "output_type": "stream",
          "name": "stdout",
          "text": [
            "[[7.400e+00 7.000e-01 0.000e+00 1.900e+00 7.600e-02 1.100e+01 3.400e+01\n",
            "  9.978e-01 3.510e+00 5.600e-01 9.400e+00]\n",
            " [7.800e+00 8.800e-01 0.000e+00 2.600e+00 9.800e-02 2.500e+01 6.700e+01\n",
            "  9.968e-01 3.200e+00 6.800e-01 9.800e+00]\n",
            " [7.800e+00 7.600e-01 4.000e-02 2.300e+00 9.200e-02 1.500e+01 5.400e+01\n",
            "  9.970e-01 3.260e+00 6.500e-01 9.800e+00]\n",
            " [1.120e+01 2.800e-01 5.600e-01 1.900e+00 7.500e-02 1.700e+01 6.000e+01\n",
            "  9.980e-01 3.160e+00 5.800e-01 9.800e+00]\n",
            " [7.400e+00 7.000e-01 0.000e+00 1.900e+00 7.600e-02 1.100e+01 3.400e+01\n",
            "  9.978e-01 3.510e+00 5.600e-01 9.400e+00]]\n"
          ]
        }
      ]
    },
    {
      "cell_type": "code",
      "source": [
        "#from sklearn.model_selection import train_test_split\n",
        "\n",
        "train_input1, test_input1, train_target1, test_target1 = train_test_split(wine_input, wine_target,random_state=42, stratify=wine_target )\n",
        "\n",
        "print(train_input1.shape, train_target1.shape)"
      ],
      "metadata": {
        "colab": {
          "base_uri": "https://localhost:8080/"
        },
        "id": "gryVU-9zTEvI",
        "outputId": "38048e95-608e-42e1-db49-d1e0dc2a8991"
      },
      "execution_count": 82,
      "outputs": [
        {
          "output_type": "stream",
          "name": "stdout",
          "text": [
            "(1199, 11) (1199,)\n"
          ]
        }
      ]
    },
    {
      "cell_type": "code",
      "source": [
        "from sklearn.preprocessing import SingleScalar"
      ],
      "metadata": {
        "colab": {
          "base_uri": "https://localhost:8080/",
          "height": 354
        },
        "id": "BcAyAwvWUej9",
        "outputId": "8db28fd8-18c9-4528-d675-7f0de9d421ac"
      },
      "execution_count": 83,
      "outputs": [
        {
          "output_type": "error",
          "ename": "ImportError",
          "evalue": "ignored",
          "traceback": [
            "\u001b[0;31m---------------------------------------------------------------------------\u001b[0m",
            "\u001b[0;31mImportError\u001b[0m                               Traceback (most recent call last)",
            "\u001b[0;32m<ipython-input-83-f463ba866180>\u001b[0m in \u001b[0;36m<cell line: 1>\u001b[0;34m()\u001b[0m\n\u001b[0;32m----> 1\u001b[0;31m \u001b[0;32mfrom\u001b[0m \u001b[0msklearn\u001b[0m\u001b[0;34m.\u001b[0m\u001b[0mpreprocessing\u001b[0m \u001b[0;32mimport\u001b[0m \u001b[0mSingleScalar\u001b[0m\u001b[0;34m\u001b[0m\u001b[0;34m\u001b[0m\u001b[0m\n\u001b[0m",
            "\u001b[0;31mImportError\u001b[0m: cannot import name 'SingleScalar' from 'sklearn.preprocessing' (/usr/local/lib/python3.10/dist-packages/sklearn/preprocessing/__init__.py)",
            "",
            "\u001b[0;31m---------------------------------------------------------------------------\u001b[0;32m\nNOTE: If your import is failing due to a missing package, you can\nmanually install dependencies using either !pip or !apt.\n\nTo view examples of installing some common dependencies, click the\n\"Open Examples\" button below.\n\u001b[0;31m---------------------------------------------------------------------------\u001b[0m\n"
          ],
          "errorDetails": {
            "actions": [
              {
                "action": "open_url",
                "actionText": "Open Examples",
                "url": "/notebooks/snippets/importing_libraries.ipynb"
              }
            ]
          }
        }
      ]
    }
  ]
}